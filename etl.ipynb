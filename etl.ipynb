{
 "cells": [
  {
   "cell_type": "code",
   "execution_count": 5,
   "metadata": {},
   "outputs": [],
   "source": [
    "import requests\n",
    "import pandas as pd\n",
    "from sqlalchemy import create_engine"
   ]
  },
  {
   "cell_type": "code",
   "execution_count": 6,
   "metadata": {},
   "outputs": [],
   "source": [
    "def extract()-> dict:\n",
    "    \"\"\" This API extracts data from\n",
    "    http://universities.hipolabs.com\n",
    "    \"\"\"\n",
    "    API_URL = \"http://universities.hipolabs.com/search?country=United+States\"\n",
    "    data = requests.get(API_URL).json()\n",
    "    return data"
   ]
  },
  {
   "cell_type": "code",
   "execution_count": 7,
   "metadata": {},
   "outputs": [],
   "source": [
    "def transform(data:dict) -> pd.DataFrame:\n",
    "    \"\"\" Transforms the dataset into desired structure and filters\"\"\"\n",
    "    df = pd.DataFrame(data)\n",
    "    print(f\"Total Number of universities from API {len(data)}\")\n",
    "    df = df[df[\"name\"].str.contains(\"California\")]\n",
    "    print(f\"Number of universities in california {len(df)}\")\n",
    "    df['domains'] = [','.join(map(str, l)) for l in df['domains']]\n",
    "    df['web_pages'] = [','.join(map(str, l)) for l in df['web_pages']]\n",
    "    df = df.reset_index(drop=True)\n",
    "    return df[[\"domains\",\"country\",\"web_pages\",\"name\"]]"
   ]
  },
  {
   "cell_type": "code",
   "execution_count": null,
   "metadata": {},
   "outputs": [],
   "source": [
    "def load(df:pd.DataFrame)-> None:\n",
    "    \"\"\" Loads data into a sqllite database\"\"\"\n",
    "    disk_engine = create_engine('sqlite:///my_lite_store.db')\n",
    "    df.to_sql('cal_uni', disk_engine, if_exists='replace')"
   ]
  },
  {
   "cell_type": "code",
   "execution_count": 8,
   "metadata": {},
   "outputs": [
    {
     "name": "stdout",
     "output_type": "stream",
     "text": [
      "Total Number of universities from API 2308\n",
      "Number of universities in california 43\n"
     ]
    }
   ],
   "source": [
    "data = extract()\n",
    "df = transform(data)\n",
    "load(df)"
   ]
  }
 ],
 "metadata": {
  "kernelspec": {
   "display_name": "Python 3",
   "language": "python",
   "name": "python3"
  },
  "language_info": {
   "codemirror_mode": {
    "name": "ipython",
    "version": 3
   },
   "file_extension": ".py",
   "mimetype": "text/x-python",
   "name": "python",
   "nbconvert_exporter": "python",
   "pygments_lexer": "ipython3",
   "version": "3.12.3"
  }
 },
 "nbformat": 4,
 "nbformat_minor": 2
}
